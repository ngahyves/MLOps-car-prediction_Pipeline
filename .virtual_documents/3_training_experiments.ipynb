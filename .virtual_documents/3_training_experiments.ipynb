


#Import libraries
import pandas as pd
import numpy as np
import os
from sklearn.model_selection import train_test_split
from sklearn.preprocessing import StandardScaler, OneHotEncoder
from sklearn.linear_model import LinearRegression, Ridge
from sklearn.ensemble import RandomForestRegressor
from xgboost import XGBRegressor
from sklearn.metrics import mean_absolute_error, mean_squared_error, r2_score
import mlflow
from sklearn.pipeline import Pipeline
from sklearn.compose import ColumnTransformer
print('libaries imported')


#import the data set
df=pd.read_csv('cleaned_cars.csv')
print(f"our data set has {df.shape[0]} rows and {df.shape[1]} columns")
df.head()





# Defining my features
X=df.drop(['price','price_log'], axis=1)
y=df['price_log']

#Spliting the data set into train and test set
X_train, X_test, y_train, y_test=train_test_split(X, y, test_size=0.2, random_state=42)

#Selecting the features
numeric_features=X.select_dtypes(include='number').columns.to_list()
categorical_features = X.select_dtypes(include='object').columns.tolist()

#Transorming the data
preprocessor=ColumnTransformer(
    transformers=[
        ('num',StandardScaler(),numeric_features),
        ('cat',OneHotEncoder(handle_unknown='ignore'), categorical_features)
])

#Apply on training set
X_train_processed = preprocessor.fit_transform(X_train)
X_test_processed=preprocessor.transform(X_test)











#Run the model
lr_model=LinearRegression()
lr_model.fit(X_train_processed, y_train)

#Predictions on train and test set
y_train_pred=lr_model.predict(X_train_processed)
y_test_pred=lr_model.predict(X_test_processed)



