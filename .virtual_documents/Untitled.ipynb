import pandas as pd
data=pd.read_csv('df_cleaned.csv')
data.columns


data.head()


data['title_status'].value_counts()



