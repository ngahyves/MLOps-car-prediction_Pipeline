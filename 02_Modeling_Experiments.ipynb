{
 "cells": [
  {
   "cell_type": "code",
   "execution_count": 1,
   "id": "625c3c8f-3083-4c8e-91f0-a001ac149a02",
   "metadata": {},
   "outputs": [
    {
     "name": "stdout",
     "output_type": "stream",
     "text": [
      "libaries imported\n"
     ]
    }
   ],
   "source": [
    "#Import libraries\n",
    "import pandas as pd\n",
    "import numpy as np\n",
    "import os\n",
    "from sklearn.model_selection import train_test_split\n",
    "from sklearn.preprocessing import StandardScaler, OneHotEncoder\n",
    "from sklearn.linear_model import LinearRegression, Ridge\n",
    "from sklearn.ensemble import RandomForestRegressor\n",
    "from xgboost import XGBRegressor\n",
    "from sklearn.metrics import mean_absolute_error, mean_squared_error, r2_score\n",
    "import mlflow\n",
    "from sklearn.pipeline import Pipeline\n",
    "from sklearn.compose import ColumnTransformer\n",
    "from scipy import stats\n",
    "import matplotlib.pyplot as plt\n",
    "import seaborn as sns\n",
    "from sklearn.model_selection import RandomizedSearchCV\n",
    "print('libaries imported')"
   ]
  },
  {
   "cell_type": "code",
   "execution_count": 2,
   "id": "c1d2d5bc-ce92-4560-bd4b-5318f4276030",
   "metadata": {},
   "outputs": [
    {
     "name": "stdout",
     "output_type": "stream",
     "text": [
      "our data set has 346689 rows and 10 columns\n"
     ]
    },
    {
     "data": {
      "text/html": [
       "<div>\n",
       "<style scoped>\n",
       "    .dataframe tbody tr th:only-of-type {\n",
       "        vertical-align: middle;\n",
       "    }\n",
       "\n",
       "    .dataframe tbody tr th {\n",
       "        vertical-align: top;\n",
       "    }\n",
       "\n",
       "    .dataframe thead th {\n",
       "        text-align: right;\n",
       "    }\n",
       "</style>\n",
       "<table border=\"1\" class=\"dataframe\">\n",
       "  <thead>\n",
       "    <tr style=\"text-align: right;\">\n",
       "      <th></th>\n",
       "      <th>price</th>\n",
       "      <th>price_log</th>\n",
       "      <th>year</th>\n",
       "      <th>age</th>\n",
       "      <th>manufacturer</th>\n",
       "      <th>model_reduced</th>\n",
       "      <th>odometer</th>\n",
       "      <th>fuel</th>\n",
       "      <th>title_status</th>\n",
       "      <th>transmission</th>\n",
       "    </tr>\n",
       "  </thead>\n",
       "  <tbody>\n",
       "    <tr>\n",
       "      <th>0</th>\n",
       "      <td>33590</td>\n",
       "      <td>10.422013</td>\n",
       "      <td>2014</td>\n",
       "      <td>11</td>\n",
       "      <td>gmc</td>\n",
       "      <td>other</td>\n",
       "      <td>57923.0</td>\n",
       "      <td>gas</td>\n",
       "      <td>clean</td>\n",
       "      <td>other</td>\n",
       "    </tr>\n",
       "    <tr>\n",
       "      <th>1</th>\n",
       "      <td>22590</td>\n",
       "      <td>10.025307</td>\n",
       "      <td>2010</td>\n",
       "      <td>15</td>\n",
       "      <td>chevrolet</td>\n",
       "      <td>silverado 1500</td>\n",
       "      <td>71229.0</td>\n",
       "      <td>gas</td>\n",
       "      <td>clean</td>\n",
       "      <td>other</td>\n",
       "    </tr>\n",
       "    <tr>\n",
       "      <th>2</th>\n",
       "      <td>39590</td>\n",
       "      <td>10.586357</td>\n",
       "      <td>2020</td>\n",
       "      <td>5</td>\n",
       "      <td>chevrolet</td>\n",
       "      <td>silverado 1500 crew</td>\n",
       "      <td>19160.0</td>\n",
       "      <td>gas</td>\n",
       "      <td>clean</td>\n",
       "      <td>other</td>\n",
       "    </tr>\n",
       "    <tr>\n",
       "      <th>3</th>\n",
       "      <td>30990</td>\n",
       "      <td>10.341452</td>\n",
       "      <td>2017</td>\n",
       "      <td>8</td>\n",
       "      <td>toyota</td>\n",
       "      <td>tundra double cab sr</td>\n",
       "      <td>41124.0</td>\n",
       "      <td>gas</td>\n",
       "      <td>clean</td>\n",
       "      <td>other</td>\n",
       "    </tr>\n",
       "    <tr>\n",
       "      <th>4</th>\n",
       "      <td>15000</td>\n",
       "      <td>9.615872</td>\n",
       "      <td>2013</td>\n",
       "      <td>12</td>\n",
       "      <td>ford</td>\n",
       "      <td>f-150 xlt</td>\n",
       "      <td>128000.0</td>\n",
       "      <td>gas</td>\n",
       "      <td>clean</td>\n",
       "      <td>automatic</td>\n",
       "    </tr>\n",
       "  </tbody>\n",
       "</table>\n",
       "</div>"
      ],
      "text/plain": [
       "   price  price_log  year  age manufacturer         model_reduced  odometer  \\\n",
       "0  33590  10.422013  2014   11          gmc                 other   57923.0   \n",
       "1  22590  10.025307  2010   15    chevrolet        silverado 1500   71229.0   \n",
       "2  39590  10.586357  2020    5    chevrolet   silverado 1500 crew   19160.0   \n",
       "3  30990  10.341452  2017    8       toyota  tundra double cab sr   41124.0   \n",
       "4  15000   9.615872  2013   12         ford             f-150 xlt  128000.0   \n",
       "\n",
       "  fuel title_status transmission  \n",
       "0  gas        clean        other  \n",
       "1  gas        clean        other  \n",
       "2  gas        clean        other  \n",
       "3  gas        clean        other  \n",
       "4  gas        clean    automatic  "
      ]
     },
     "execution_count": 2,
     "metadata": {},
     "output_type": "execute_result"
    }
   ],
   "source": [
    "#import the data set\n",
    "df=pd.read_csv('cleaned_cars.csv')\n",
    "print(f\"our data set has {df.shape[0]} rows and {df.shape[1]} columns\")\n",
    "df.head()"
   ]
  },
  {
   "cell_type": "markdown",
   "id": "95f02896-ec3d-471d-92af-5d9b131605b2",
   "metadata": {},
   "source": [
    "## I-Normalization of data (OneHotEncoder, StandardScaler)"
   ]
  },
  {
   "cell_type": "code",
   "execution_count": 3,
   "id": "4b9d0235-33d0-4c8e-a050-8974842b9826",
   "metadata": {},
   "outputs": [],
   "source": [
    "# Defining my features\n",
    "X=df.drop(['price','price_log'], axis=1)\n",
    "y=df['price_log']\n",
    "\n",
    "#Spliting the data set into train and test set\n",
    "X_train, X_test, y_train, y_test=train_test_split(X, y, test_size=0.2, random_state=42)\n",
    "\n",
    "#Selecting the features\n",
    "numeric_features=X.select_dtypes(include='number').columns.to_list()\n",
    "categorical_features = X.select_dtypes(include='object').columns.tolist()\n",
    "\n",
    "#Transorming the data\n",
    "preprocessor=ColumnTransformer(\n",
    "    transformers=[\n",
    "        ('num',StandardScaler(),numeric_features),\n",
    "        ('cat',OneHotEncoder(handle_unknown='ignore'), categorical_features)\n",
    "])\n",
    "\n",
    "#Apply on training and test set\n",
    "X_train_processed = preprocessor.fit_transform(X_train)\n",
    "X_test_processed=preprocessor.transform(X_test)"
   ]
  },
  {
   "cell_type": "markdown",
   "id": "667b4d59-71f1-49c0-8d94-6d515c406038",
   "metadata": {},
   "source": [
    "## II- Base models"
   ]
  },
  {
   "cell_type": "markdown",
   "id": "775bcb77-3085-44fb-9d05-c69b079c6be1",
   "metadata": {},
   "source": [
    "### 1-Linear regression"
   ]
  },
  {
   "cell_type": "code",
   "execution_count": 4,
   "id": "622e6b2a-e159-4637-9d4b-54cbc87d549f",
   "metadata": {},
   "outputs": [
    {
     "name": "stdout",
     "output_type": "stream",
     "text": [
      "running the model\n",
      "predictions on train and test set\n",
      "Metrics of the model\n",
      "parameters of the model\n",
      "coefficients of the model\n",
      "hypothesis of the model\n"
     ]
    },
    {
     "name": "stderr",
     "output_type": "stream",
     "text": [
      "2025/06/28 06:06:29 WARNING mlflow.models.model: `artifact_path` is deprecated. Please use `name` instead.\n",
      "2025/06/28 06:06:37 WARNING mlflow.models.model: Model logged without a signature and input example. Please set `input_example` parameter when logging the model to auto infer the model signature.\n"
     ]
    },
    {
     "data": {
      "image/png": "[encoded data removed]",
      "text/plain": [
       "<Figure size 1500x1000 with 1 Axes>"
      ]
     },
     "metadata": {},
     "output_type": "display_data"
    }
   ],
   "source": [
    "import tempfile\n",
    "\n",
    "mlflow.set_experiment('based models')\n",
    "with mlflow.start_run(run_name='linear regression'):\n",
    "    # 1-Run the model\n",
    "    print(\"running the model\")\n",
    "    lr=LinearRegression()\n",
    "    lr.fit(X_train_processed, y_train)\n",
    "    \n",
    "    # 2-predictions on train and test set\n",
    "    print('predictions on train and test set')\n",
    "    y_train_pred_lr=lr.predict(X_train_processed)\n",
    "    y_test_pred_lr=lr.predict(X_test_processed)\n",
    "    \n",
    "    # 3- Metrics\n",
    "    print('Metrics of the model')\n",
    "    r2_score_train_lr=r2_score(y_train, y_train_pred_lr)\n",
    "    r2_score_test_lr=r2_score(y_test, y_test_pred_lr)\n",
    "    mae_train_lr=mean_absolute_error(y_train, y_train_pred_lr)\n",
    "    mae_test_lr=mean_absolute_error(y_test,y_test_pred_lr)\n",
    "    mse_train_lr=mean_squared_error(y_train, y_train_pred_lr)\n",
    "    mse_test_lr=mean_squared_error(y_test, y_test_pred_lr)\n",
    "    \n",
    "    # 4- Log the metrics\n",
    "    mlflow.log_metric(\"r2_train\", r2_score_train_lr)\n",
    "    mlflow.log_metric(\"r2_test\", r2_score_test_lr)\n",
    "    mlflow.log_metric(\"mae_train\", mae_train_lr)\n",
    "    mlflow.log_metric(\"mae_test\", mae_test_lr)\n",
    "    mlflow.log_metric(\"mse_train\", mse_train_lr)\n",
    "    mlflow.log_metric(\"mse_test\", mse_test_lr)\n",
    "    \n",
    "    # 5-Log Parameters\n",
    "    print('parameters of the model')\n",
    "    mlflow.log_params(lr.get_params())\n",
    "    mlflow.set_tag(\"model_type\", \"Linear Regression\")\n",
    "    \n",
    "    # 6-Coefficients of the model\n",
    "    print('coefficients of the model')\n",
    "    feature_names = preprocessor.get_feature_names_out()\n",
    "    intercept=lr.intercept_\n",
    "    coefficients = lr.coef_\n",
    "    coef_df = pd.DataFrame({'intercept':intercept, 'feature': feature_names, 'coefficient': coefficients})\n",
    "    coef_df = coef_df.sort_values('coefficient', ascending=False)\n",
    "    # Save and log the coeff \n",
    "    os.makedirs(\"artifacts\", exist_ok=True)\n",
    "    coef_df.to_csv(\"artifacts/coefficients.csv\", index=False)\n",
    "    mlflow.log_artifact(\"artifacts/coefficients.csv\", \"coefficients\")\n",
    "    \n",
    "    #plot the top 20 best features\n",
    "    plt.figure(figsize=(15, 10))\n",
    "    top_20_features = coef_df.head(20)\n",
    "    plt.barh(top_20_features['feature'], top_20_features['coefficient'])\n",
    "    plt.title('Top 20 Feature Importances - Linear Regression')\n",
    "    plt.xlabel('Coefficient Value')\n",
    "    plt.gca().invert_yaxis()\n",
    "    plt.tight_layout()\n",
    "    plt.savefig(\"artifacts/coefficients_plot.png\")\n",
    "    mlflow.log_artifact(\"artifacts/coefficients_plot.png\", \"coefficients_plot\")\n",
    "\n",
    "    # 7-Assumptions of the model\n",
    "    print('hypothesis of the model')\n",
    "    residuals = y_test - y_test_pred_lr\n",
    "    with tempfile.TemporaryDirectory() as tmpdir:\n",
    "        # PLOT 1: Résiduals vs. Predicted values (for Linearity et Homoscedasticity)\n",
    "        plt.figure(figsize=(10, 6))\n",
    "        sns.scatterplot(x=y_test_pred_lr, y=residuals)\n",
    "        plt.axhline(y=0, color='r', linestyle='--')\n",
    "        plt.title('Residuals vs. Predicted Values')\n",
    "        plt.xlabel('Predicted Values')\n",
    "        plt.ylabel('Residuals')\n",
    "        plot_path_1 = os.path.join(tmpdir, \"residuals_vs_predicted.png\")\n",
    "        plt.savefig(plot_path_1)\n",
    "        plt.close()\n",
    "        mlflow.log_artifact(plot_path_1, \"diagnostic_plots\")\n",
    "        # PLOT 2: Q-Q Plot ( Normality of residuals)\n",
    "        plt.figure(figsize=(10, 6))\n",
    "        stats.probplot(residuals, dist=\"norm\", plot=plt)\n",
    "        plt.title('Q-Q Plot of Residuals')\n",
    "        plot_path_2 = os.path.join(tmpdir, \"qq_plot.png\")\n",
    "        plt.savefig(plot_path_2)\n",
    "        plt.close()\n",
    "        mlflow.log_artifact(plot_path_2, \"diagnostic_plots\")\n",
    "\n",
    "\n",
    "    # Model log\n",
    "    mlflow.sklearn.log_model(lr, \"lr_model_base\")\n",
    "    "
   ]
  },
  {
   "cell_type": "markdown",
   "id": "34ffee70-5af8-45dc-ba27-b89d7898a0c0",
   "metadata": {},
   "source": [
    "### 2- Ridge Regression"
   ]
  },
  {
   "cell_type": "code",
   "execution_count": 5,
   "id": "fad294f0-e3bd-4196-b07c-fa2cb9f54ef3",
   "metadata": {
    "scrolled": true
   },
   "outputs": [
    {
     "name": "stdout",
     "output_type": "stream",
     "text": [
      "--- Training Ridge model ---\n",
      "Making predictions...\n",
      "Evaluating metrics...\n",
      "\n",
      "Performance Table:\n",
      "  Metrics  Train set  Test set\n",
      "0      R2   0.713180  0.710240\n",
      "1     MSE   0.196882  0.198362\n",
      "2     MAE   0.301576  0.301599\n",
      "Logging metrics to MLflow...\n",
      "Logging parameters...\n",
      "Logging coefficients artifacts...\n"
     ]
    },
    {
     "name": "stderr",
     "output_type": "stream",
     "text": [
      "2025/06/28 06:06:38 WARNING mlflow.models.model: `artifact_path` is deprecated. Please use `name` instead.\n"
     ]
    },
    {
     "name": "stdout",
     "output_type": "stream",
     "text": [
      "Logging the model...\n"
     ]
    },
    {
     "name": "stderr",
     "output_type": "stream",
     "text": [
      "2025/06/28 06:06:43 WARNING mlflow.models.model: Model logged without a signature and input example. Please set `input_example` parameter when logging the model to auto infer the model signature.\n"
     ]
    },
    {
     "name": "stdout",
     "output_type": "stream",
     "text": [
      "--- Ridge run completed successfully! ---\n"
     ]
    }
   ],
   "source": [
    "import tempfile\n",
    "import os\n",
    "import matplotlib.pyplot as plt\n",
    "import pandas as pd\n",
    "import mlflow\n",
    "\n",
    "# Ridge model using mlflow\n",
    "mlflow.set_experiment('based models')\n",
    "with mlflow.start_run(run_name='Ridge'):\n",
    "    #1-Running the model\n",
    "    print('--- Training Ridge model ---')\n",
    "    ridge = Ridge(random_state=42)\n",
    "    ridge.fit(X_train_processed, y_train)\n",
    "\n",
    "    #2-predictions of the model on train and test set\n",
    "    print('Making predictions...')\n",
    "    y_train_pred_ri = ridge.predict(X_train_processed)\n",
    "    y_test_pred_ri = ridge.predict(X_test_processed)\n",
    "\n",
    "    #3-Metrics of the ridge model\n",
    "    print('Evaluating metrics...')\n",
    "    r2_train_ri = r2_score(y_train, y_train_pred_ri)\n",
    "    r2_test_ri = r2_score(y_test, y_test_pred_ri)\n",
    "    mse_train_ri = mean_squared_error(y_train, y_train_pred_ri)\n",
    "    # CORRIGÉ: Faute de frappe\n",
    "    mse_test_ri = mean_squared_error(y_test, y_test_pred_ri) \n",
    "    mae_train_ri = mean_absolute_error(y_train, y_train_pred_ri)\n",
    "    mae_test_ri = mean_absolute_error(y_test, y_test_pred_ri)\n",
    "    \n",
    "    #Performance table\n",
    "    table_ridge = pd.DataFrame({\n",
    "        'Metrics': ['R2', 'MSE', 'MAE'],\n",
    "        'Train set': [r2_train_ri, mse_train_ri, mae_train_ri],\n",
    "        'Test set': [r2_test_ri, mse_test_ri, mae_test_ri]\n",
    "    })\n",
    "    print(\"\\nPerformance Table:\")\n",
    "    print(table_ridge)\n",
    "\n",
    "    #4- Log the metrics\n",
    "    print('Logging metrics to MLflow...')\n",
    "    mlflow.log_metric('R2_train', r2_train_ri)\n",
    "    mlflow.log_metric('R2_test', r2_test_ri)\n",
    "    mlflow.log_metric('MSE_train', mse_train_ri)\n",
    "    mlflow.log_metric('MSE_test', mse_test_ri)\n",
    "    mlflow.log_metric('MAE_train', mae_train_ri)\n",
    "    mlflow.log_metric('MAE_test', mae_test_ri)\n",
    "    mlflow.log_metric('intercept', ridge.intercept_)\n",
    "\n",
    "    #5-Log parameters\n",
    "    print('Logging parameters...')\n",
    "    mlflow.log_params(ridge.get_params())\n",
    "    mlflow.set_tag(\"model_type\", \"Ridge\")\n",
    "\n",
    "    #6- Coefficients\n",
    "    print(\"Logging coefficients artifacts...\")\n",
    "    features_name = preprocessor.get_feature_names_out()\n",
    "    coef_ri = ridge.coef_\n",
    "    features_table = pd.DataFrame({\n",
    "        'Feature': features_name,\n",
    "        'Coefficient': coef_ri\n",
    "    })\n",
    "    features_table = features_table.sort_values(by='Coefficient', ascending=False)\n",
    "    \n",
    "    with tempfile.TemporaryDirectory() as tmpdir:\n",
    "        # Save and log the coefficient table\n",
    "        coef_csv_path = os.path.join(tmpdir, \"coefficients.csv\")\n",
    "        features_table.to_csv(coef_csv_path, index=False)\n",
    "        mlflow.log_artifact(coef_csv_path, \"coefficients\")\n",
    "\n",
    "        # Plot the top 20 best features\n",
    "        plt.figure(figsize=(15, 10))\n",
    "        top_20_features_ri = features_table.head(20)\n",
    "        plt.barh(top_20_features_ri['Feature'], top_20_features_ri['Coefficient'])\n",
    "        plt.title('Top 20 Feature Importances - Ridge Regression')\n",
    "        plt.xlabel('Coefficient Value')\n",
    "        plt.gca().invert_yaxis()\n",
    "        plt.tight_layout()\n",
    "        coef_plot_path = os.path.join(tmpdir, \"ridge_coefficients_plot.png\")\n",
    "        plt.savefig(coef_plot_path)\n",
    "        plt.close()\n",
    "        mlflow.log_artifact(coef_plot_path, \"ridge_coefficients_plot\")\n",
    "\n",
    "    # Model log\n",
    "    print(\"Logging the model...\")\n",
    "    # CORRIGÉ: Log du bon modèle\n",
    "    mlflow.sklearn.log_model(ridge, \"model\")\n",
    "\n",
    "print(\"--- Ridge run completed successfully! ---\")"
   ]
  },
  {
   "cell_type": "code",
   "execution_count": null,
   "id": "358ab6f4-f913-4d76-b1f7-8ad918c49b53",
   "metadata": {},
   "outputs": [],
   "source": []
  },
  {
   "cell_type": "markdown",
   "id": "809335e6-eccb-4719-b682-ec4ba6b4b892",
   "metadata": {},
   "source": [
    "### 3-Random forest"
   ]
  },
  {
   "cell_type": "code",
   "execution_count": 6,
   "id": "e6a8279a-3e87-46bc-93d7-e68a2ea9c119",
   "metadata": {},
   "outputs": [
    {
     "name": "stdout",
     "output_type": "stream",
     "text": [
      "--- Training Random Forest ---\n",
      "Making predictions...\n",
      "Evaluating metrics...\n",
      "\n",
      "Performance Table:\n",
      "  Metrics  Train Set  Test Set\n",
      "0      R²   0.966486  0.828674\n",
      "1     MSE   0.023005  0.117286\n",
      "2     MAE   0.072938  0.177162\n",
      "Logging metrics to MLflow...\n",
      "Logging parameters...\n",
      "Logging artifacts (feature importances)...\n"
     ]
    },
    {
     "name": "stderr",
     "output_type": "stream",
     "text": [
      "2025/06/28 06:55:38 WARNING mlflow.models.model: `artifact_path` is deprecated. Please use `name` instead.\n"
     ]
    },
    {
     "name": "stdout",
     "output_type": "stream",
     "text": [
      "Logging the model...\n"
     ]
    },
    {
     "name": "stderr",
     "output_type": "stream",
     "text": [
      "2025/06/28 06:55:58 WARNING mlflow.models.model: Model logged without a signature and input example. Please set `input_example` parameter when logging the model to auto infer the model signature.\n"
     ]
    },
    {
     "name": "stdout",
     "output_type": "stream",
     "text": [
      "--- Random Forest run completed successfully! ---\n"
     ]
    }
   ],
   "source": [
    "# Random forest Model training with mlflow\n",
    "mlflow.set_experiment('based models')\n",
    "with mlflow.start_run(run_name='random forest'):\n",
    "    # 1-Running the model\n",
    "    print('--- Training Random Forest ---')\n",
    "    rf = RandomForestRegressor(random_state=42, n_jobs=-1)\n",
    "    rf.fit(X_train_processed, y_train)\n",
    "    \n",
    "    # 2-predictions on train and test set\n",
    "    print('Making predictions...')\n",
    "    y_train_predict_rf = rf.predict(X_train_processed)\n",
    "    y_test_predict_rf = rf.predict(X_test_processed)\n",
    "\n",
    "    # 3-Metrics of evaluation\n",
    "    print(\"Evaluating metrics...\")\n",
    "    r2_train_rf = r2_score(y_train, y_train_predict_rf)\n",
    "    r2_test_rf = r2_score(y_test, y_test_predict_rf)\n",
    "    mse_train_rf = mean_squared_error(y_train, y_train_predict_rf)\n",
    "    mse_test_rf = mean_squared_error(y_test, y_test_predict_rf)\n",
    "    mae_train_rf = mean_absolute_error(y_train, y_train_predict_rf)\n",
    "    mae_test_rf = mean_absolute_error(y_test, y_test_predict_rf)\n",
    "    \n",
    "    # Performance table\n",
    "    performance_table_rf = pd.DataFrame({\n",
    "        'Metrics': ['R²', 'MSE', 'MAE'],\n",
    "        'Train Set': [r2_train_rf, mse_train_rf, mae_train_rf],\n",
    "        'Test Set': [r2_test_rf, mse_test_rf, mae_test_rf] \n",
    "    })\n",
    "    print(\"\\nPerformance Table:\")\n",
    "    print(performance_table_rf) \n",
    "    \n",
    "    # Log the metrics\n",
    "    print(\"Logging metrics to MLflow...\")\n",
    "    mlflow.log_metric('r2_train', r2_train_rf)\n",
    "    mlflow.log_metric('r2_test', r2_test_rf)\n",
    "    mlflow.log_metric('mse_train', mse_train_rf)\n",
    "    mlflow.log_metric('mse_test', mse_test_rf)\n",
    "    mlflow.log_metric('mae_train', mae_train_rf)\n",
    "    mlflow.log_metric('mae_test', mae_test_rf)\n",
    "    \n",
    "    # 4-log parameters\n",
    "    print(\"Logging parameters...\")\n",
    "    mlflow.log_params(rf.get_params())\n",
    "    mlflow.set_tag(\"model_type\", \"Random Forest\")\n",
    "    \n",
    "    # 5-features importance and artefacts\n",
    "    print(\"Logging artifacts (feature importances)...\")\n",
    "    \n",
    "    importance = rf.feature_importances_\n",
    "    features = preprocessor.get_feature_names_out()\n",
    "    importance_df = pd.DataFrame({'Feature': features, 'Importance': importance})\n",
    "    importance_df = importance_df.sort_values(by='Importance', ascending=False)\n",
    "    \n",
    "    with tempfile.TemporaryDirectory() as tmpdir:\n",
    "        # Save and log the feature importance table\n",
    "        features_csv_path = os.path.join(tmpdir, \"feature_importances.csv\")\n",
    "        importance_df.to_csv(features_csv_path, index=False)\n",
    "        mlflow.log_artifact(features_csv_path, \"feature_importances\")\n",
    "\n",
    "        # Plot the 20 most important features\n",
    "        plt.figure(figsize=(15, 10))\n",
    "        top_20_features = importance_df.head(20)\n",
    "        plt.barh(top_20_features['Feature'], top_20_features['Importance'])\n",
    "        plt.title('Top 20 Feature Importances - Random Forest')\n",
    "        plt.xlabel('Importance (Gini Impurity)')\n",
    "        plt.gca().invert_yaxis()\n",
    "        plt.tight_layout()\n",
    "        features_plot_path = os.path.join(tmpdir, \"feature_importances_plot.png\")\n",
    "        plt.savefig(features_plot_path)\n",
    "        plt.close()\n",
    "        mlflow.log_artifact(features_plot_path, \"feature_importances_plot\")\n",
    "\n",
    "    # Log the model\n",
    "    print(\"Logging the model...\")\n",
    "    mlflow.sklearn.log_model(rf, 'model')\n",
    "\n",
    "print(\"--- Random Forest run completed successfully! ---\")"
   ]
  },
  {
   "cell_type": "code",
   "execution_count": null,
   "id": "12d2d31e-a3ed-4156-bb9f-dc1fabdecfef",
   "metadata": {},
   "outputs": [],
   "source": []
  },
  {
   "cell_type": "markdown",
   "id": "0b2fe0b8-c739-49ec-b34a-82bee3714533",
   "metadata": {},
   "source": [
    "### 4-XGBOOST model"
   ]
  },
  {
   "cell_type": "code",
   "execution_count": 8,
   "id": "283a2c13-c0aa-4d2a-ba40-8e8a297fcd6f",
   "metadata": {},
   "outputs": [
    {
     "name": "stdout",
     "output_type": "stream",
     "text": [
      "--- XGBOOST Regressor ---\n",
      "Making predictions...\n",
      "Evaluating metrics...\n",
      "\n",
      "Performance Table:\n",
      "  Metrics  Train Set  Test Set\n",
      "0      R²   0.780596  0.771113\n",
      "1     MSE   0.150606  0.156690\n",
      "2     MAE   0.263077  0.267069\n",
      "Logging metrics to MLflow...\n",
      "Logging parameters...\n",
      "Logging artifacts (feature importances)...\n"
     ]
    },
    {
     "name": "stderr",
     "output_type": "stream",
     "text": [
      "2025/06/28 07:49:19 WARNING mlflow.models.model: `artifact_path` is deprecated. Please use `name` instead.\n"
     ]
    },
    {
     "name": "stdout",
     "output_type": "stream",
     "text": [
      "Logging the model...\n"
     ]
    },
    {
     "name": "stderr",
     "output_type": "stream",
     "text": [
      "2025/06/28 07:49:26 WARNING mlflow.models.model: Model logged without a signature and input example. Please set `input_example` parameter when logging the model to auto infer the model signature.\n"
     ]
    },
    {
     "name": "stdout",
     "output_type": "stream",
     "text": [
      "--- XGBOOST Regressor run completed successfully! ---\n"
     ]
    }
   ],
   "source": [
    "# XGBOOST Model training with mlflow\n",
    "\n",
    "mlflow.set_experiment('based models')\n",
    "with mlflow.start_run(run_name='XGBOOST'):\n",
    "    # 1-Running the model\n",
    "    print('--- XGBOOST Regressor ---')\n",
    "    xgb = XGBRegressor(random_state=42, n_jobs=-1)\n",
    "    xgb.fit(X_train_processed, y_train)\n",
    "    \n",
    "    # 2-predictions on train and test set\n",
    "    print('Making predictions...')\n",
    "    y_train_predict_xgb = xgb.predict(X_train_processed)\n",
    "    y_test_predict_xgb = xgb.predict(X_test_processed)\n",
    "\n",
    "    # 3-Metrics of evaluation\n",
    "    print(\"Evaluating metrics...\")\n",
    "    r2_train_xgb = r2_score(y_train, y_train_predict_xgb)\n",
    "    r2_test_xgb = r2_score(y_test, y_test_predict_xgb)\n",
    "    mse_train_xgb = mean_squared_error(y_train, y_train_predict_xgb)\n",
    "    mse_test_xgb = mean_squared_error(y_test, y_test_predict_xgb)\n",
    "    mae_train_xgb = mean_absolute_error(y_train, y_train_predict_xgb)\n",
    "    mae_test_xgb = mean_absolute_error(y_test, y_test_predict_xgb)\n",
    "    \n",
    "    # Performance table\n",
    "    performance_table_xgb = pd.DataFrame({\n",
    "        'Metrics': ['R²', 'MSE', 'MAE'],\n",
    "        'Train Set': [r2_train_xgb, mse_train_xgb, mae_train_xgb],\n",
    "        'Test Set': [r2_test_xgb, mse_test_xgb, mae_test_xgb] \n",
    "    })\n",
    "    print(\"\\nPerformance Table:\")\n",
    "    print(performance_table_xgb) \n",
    "    \n",
    "    # Log the metrics\n",
    "    print(\"Logging metrics to MLflow...\")\n",
    "    mlflow.log_metric('r2_train', r2_train_xgb)\n",
    "    mlflow.log_metric('r2_test', r2_test_xgb)\n",
    "    mlflow.log_metric('mse_train', mse_train_xgb)\n",
    "    mlflow.log_metric('mse_test', mse_test_xgb)\n",
    "    mlflow.log_metric('mae_train', mae_train_xgb)\n",
    "    mlflow.log_metric('mae_test', mae_test_xgb)\n",
    "    \n",
    "    # 4-log parameters\n",
    "    print(\"Logging parameters...\")\n",
    "    mlflow.log_params(xgb.get_params())\n",
    "    mlflow.set_tag(\"model_type\", \"XGBRegressor\")\n",
    "    \n",
    "    # 5-features importance and artefacts\n",
    "    print(\"Logging artifacts (feature importances)...\")\n",
    "    \n",
    "    importance_xgb = xgb.feature_importances_\n",
    "    features_xgb = preprocessor.get_feature_names_out()\n",
    "    importance_df_xgb = pd.DataFrame({'Feature': features_xgb, 'Importance': importance_xgb})\n",
    "    importance_df_xgb = importance_df_xgb.sort_values(by='Importance', ascending=False)\n",
    "    \n",
    "    with tempfile.TemporaryDirectory() as tmpdir:\n",
    "        # Save and log the feature importance table\n",
    "        features_csv_path = os.path.join(tmpdir, \"importance_df_xgb.csv\")\n",
    "        importance_df_xgb.to_csv(features_csv_path, index=False)\n",
    "        mlflow.log_artifact(features_csv_path, \"importance_df_xgb\")\n",
    "\n",
    "        # Plot the 20 most important features\n",
    "        plt.figure(figsize=(15, 10))\n",
    "        top_20_features_xgb = importance_df_xgb.head(20)\n",
    "        plt.barh(top_20_features_xgb['Feature'], top_20_features_xgb['Importance'])\n",
    "        plt.title('Top 20 Feature Importances - XGBOOST Regressor')\n",
    "        plt.xlabel('Feature Importance (F-score)')\n",
    "        plt.gca().invert_yaxis()\n",
    "        plt.tight_layout()\n",
    "        features_plot_path = os.path.join(tmpdir, \"feature_importances_plot_xgb.png\")\n",
    "        plt.savefig(features_plot_path)\n",
    "        plt.close() \n",
    "        mlflow.log_artifact(features_plot_path, \"feature_importances_plot_xgb\")\n",
    "\n",
    "    # Log the model\n",
    "    print(\"Logging the model...\")\n",
    "    mlflow.sklearn.log_model(xgb, 'model')\n",
    "\n",
    "print(\"--- XGBOOST Regressor run completed successfully! ---\")"
   ]
  },
  {
   "cell_type": "raw",
   "id": "9fdac240-9f04-423e-9430-88936c4dbbcc",
   "metadata": {},
   "source": [
    "Based on the results of our based models, we can see that, our 2 best models are, random forest with an accuracy of 82.86% and \n",
    "XGBOOST with an accuracy of: 77.11%\n",
    "\n",
    "Now we will optimize these 2 models by tuning hyper parameters and to have better metrics and find the best model that can predict the prices of used cars"
   ]
  },
  {
   "cell_type": "markdown",
   "id": "5c37af8e-1ae9-4822-bb09-bf50cba280c2",
   "metadata": {},
   "source": [
    "## III- Optimized models with RandomizedCV"
   ]
  },
  {
   "cell_type": "markdown",
   "id": "ec646b51-431d-4410-9eb6-f8f473885fba",
   "metadata": {},
   "source": [
    "### 1-XGBOOST optmized model"
   ]
  },
  {
   "cell_type": "code",
   "execution_count": 10,
   "id": "08039ded-2205-42cd-b3cd-1d49a6850a44",
   "metadata": {},
   "outputs": [
    {
     "name": "stderr",
     "output_type": "stream",
     "text": [
      "2025/06/29 00:36:33 INFO mlflow.tracking.fluent: Experiment with name 'optimized models' does not exist. Creating a new experiment.\n"
     ]
    },
    {
     "name": "stdout",
     "output_type": "stream",
     "text": [
      "Pameters of optimization\n",
      "\n",
      "2- Find best hyperparameters ...\n",
      "\n",
      "Fitting 5 folds for each of 10 candidates, totalling 50 fits\n",
      "best parameters found :  {'n_estimators': 100, 'min_child_weight': 3, 'max_depth': 7, 'learning_rate': 1}\n",
      "\n",
      "3- Training the best XGBOOST model...\n",
      "\n",
      "predictions on train and test set\n",
      "Metrics of performance\n",
      "Score R2 of cross validation : 0.7895\n",
      "  Metric     Train      Test\n",
      "0     R2  0.821547  0.790628\n",
      "1    MSE  0.122496  0.143331\n",
      "2    MAE  0.230261  0.245773\n",
      "\n",
      "6- Log metrics on mlflow...\n",
      "\n",
      "\n",
      "7- Features importance...\n",
      "\n"
     ]
    },
    {
     "name": "stderr",
     "output_type": "stream",
     "text": [
      "2025/06/29 00:37:42 WARNING mlflow.models.model: `artifact_path` is deprecated. Please use `name` instead.\n"
     ]
    },
    {
     "name": "stdout",
     "output_type": "stream",
     "text": [
      "\n",
      "8- Logging model on MLflow...\n",
      "\n"
     ]
    },
    {
     "name": "stderr",
     "output_type": "stream",
     "text": [
      "2025/06/29 00:37:49 WARNING mlflow.models.model: Model logged without a signature and input example. Please set `input_example` parameter when logging the model to auto infer the model signature.\n"
     ]
    },
    {
     "name": "stdout",
     "output_type": "stream",
     "text": [
      "\n",
      " XGBOOST runned successfully !\n"
     ]
    }
   ],
   "source": [
    "from sklearn.model_selection import RandomizedSearchCV\n",
    "\n",
    "mlflow.set_experiment('optimized models')\n",
    "with mlflow.start_run(run_name='XGBOOST_optimized'):\n",
    "    #1- Parameters of optimization\n",
    "    print('Pameters of optimization')\n",
    "    param_distributions={\n",
    "        'n_estimators':[100,200,300],\n",
    "        'max_depth':[2,4,6,7],\n",
    "        'learning_rate': [0.01, 0.1,1],\n",
    "        'min_child_weight': [1, 3, 5]\n",
    "    }\n",
    "\n",
    "    #2- Using RandomizedSearchCV for the search\n",
    "    print('\\n2- Find best hyperparameters ...\\n')\n",
    "    xgb_best=XGBRegressor(random_state=42, n_jobs=-1)\n",
    "    grid_search_xgb=RandomizedSearchCV(estimator=xgb_best, param_distributions=param_distributions, cv=5, n_jobs=-1, verbose=1)\n",
    "    grid_search_xgb.fit(X_train_processed, y_train)\n",
    "\n",
    "    #log the best parameters\n",
    "    print(\"best parameters found : \", grid_search_xgb.best_params_)\n",
    "    mlflow.log_params(grid_search_xgb.best_params_)\n",
    "\n",
    "    #3- Take back the best XGBOOST model\n",
    "    print('\\n3- Training the best XGBOOST model...\\n')\n",
    "    best_model = grid_search_xgb.best_estimator_\n",
    "\n",
    "    #4- predictions on train and test set\n",
    "    print('predictions on train and test set')\n",
    "    y_train_pred_xgb = best_model.predict(X_train_processed)\n",
    "    y_test_pred_xgb = best_model.predict(X_test_processed)\n",
    "\n",
    "    #5- Metrics of performance\n",
    "    print('Metrics of performance')\n",
    "    metrics_train = {\n",
    "        'r2_train': r2_score(y_train, y_train_pred_xgb),\n",
    "        'mse_train': mean_squared_error(y_train, y_train_pred_xgb),\n",
    "        'mae_train': mean_absolute_error(y_train, y_train_pred_xgb)\n",
    "    }\n",
    "    metrics_test = {\n",
    "        'r2_test': r2_score(y_test, y_test_pred_xgb),\n",
    "        'mse_test': mean_squared_error(y_test, y_test_pred_xgb),\n",
    "        'mae_test': mean_absolute_error(y_test, y_test_pred_xgb)\n",
    "    }\n",
    "    # Log the cross validation score\n",
    "    cv_score = {'r2_cross_validated': grid_search_xgb.best_score_}\n",
    "    print(f\"Score R2 of cross validation : {cv_score['r2_cross_validated']:.4f}\")\n",
    "\n",
    "    # Table of performance\n",
    "    perf_table = pd.DataFrame({\n",
    "        'Metric': ['R2', 'MSE', 'MAE'],\n",
    "        'Train': [metrics_train['r2_train'], metrics_train['mse_train'], metrics_train['mae_train']],\n",
    "        'Test': [metrics_test['r2_test'], metrics_test['mse_test'], metrics_test['mae_test']]\n",
    "    })\n",
    "    print(perf_table)\n",
    "\n",
    "    # 6- Log metrics on mlflow\n",
    "    print('\\n6- Log metrics on mlflow...\\n')\n",
    "    mlflow.log_metrics(metrics_train)\n",
    "    mlflow.log_metrics(metrics_test)\n",
    "    mlflow.log_metrics(cv_score)\n",
    "\n",
    "    # 7- Features importance\n",
    "    print('\\n7- Features importance...\\n')\n",
    "    importance = best_model.feature_importances_\n",
    "    features = preprocessor.get_feature_names_out()\n",
    "    importance_df_xgb = pd.DataFrame({'Feature': features, 'Importance': importance})\n",
    "    importance_df_xgb = importance_df_xgb.sort_values(by='Importance', ascending=False)\n",
    "\n",
    "    # logg artifacts\n",
    "    with tempfile.TemporaryDirectory() as tmpdir:\n",
    "        \n",
    "        artifact_subdir = \"feature_importance\"\n",
    "        \n",
    "        # Save the features importance table\n",
    "        features_csv_path = os.path.join(tmpdir, \"feature_importances_xgb.csv\")\n",
    "        importance_df_xgb.to_csv(features_csv_path, index=False)\n",
    "        mlflow.log_artifact(features_csv_path, artifact_path=artifact_subdir)\n",
    "\n",
    "        # plot and save the graph\n",
    "        plt.figure(figsize=(15, 10))\n",
    "        top_20_features_xgb = importance_df_xgb.head(20)\n",
    "        plt.barh(top_20_features_xgb['Feature'], top_20_features_xgb['Importance'])\n",
    "        plt.title('Top 20 Feature Importances - XGBOOST Optimized')\n",
    "        \n",
    "        plt.xlabel('Importance (weight)')\n",
    "        plt.gca().invert_yaxis()\n",
    "        plt.tight_layout()\n",
    "        features_plot_path = os.path.join(tmpdir, \"feature_importances_plot_xgb.png\")\n",
    "        plt.savefig(features_plot_path)\n",
    "        plt.close()\n",
    "        mlflow.log_artifact(features_plot_path, artifact_path=artifact_subdir)\n",
    "\n",
    "    # 8- Log the model\n",
    "    print(\"\\n8- Logging model on MLflow...\\n\")\n",
    "    mlflow.sklearn.log_model(best_model, \"model\")\n",
    "\n",
    "print(\"\\n XGBOOST runned successfully !\")\n",
    "    \n",
    "    "
   ]
  },
  {
   "cell_type": "markdown",
   "id": "42834034-b319-4b75-8fe9-7ca742750975",
   "metadata": {},
   "source": [
    "### 2- Random Forest optimized model"
   ]
  },
  {
   "cell_type": "code",
   "execution_count": 4,
   "id": "bf8cdd73-b374-43e1-859f-cd4c900ea38b",
   "metadata": {},
   "outputs": [],
   "source": [
    "import tempfile"
   ]
  },
  {
   "cell_type": "code",
   "execution_count": 5,
   "id": "3bcf6a8a-ccf7-454d-abd2-8cdf582f1c33",
   "metadata": {},
   "outputs": [
    {
     "name": "stdout",
     "output_type": "stream",
     "text": [
      "\n",
      "1- Search Best hyper parameters\n",
      "\n",
      "\n",
      "2- Find best hyperparameters ...\n",
      "\n",
      "best parameters found :  {'n_estimators': 100, 'min_samples_split': 10, 'min_samples_leaf': 1, 'max_depth': None}\n",
      "\n",
      "3- Training the best random forest model...\n",
      "\n",
      "\n",
      "4- Predictions on train and test set...\n",
      "\n",
      "\n",
      "5- Metrics evaluation...\n",
      "\n",
      "Score R2 of cross validation : 0.8196\n",
      "  Metric     Train      Test\n",
      "0     R2  0.925147  0.830554\n",
      "1    MSE  0.051382  0.115998\n",
      "2    MAE  0.128321  0.192230\n",
      "\n",
      "6- Log metrics on mlflow...\n",
      "\n",
      "\n",
      "7- Features importance...\n",
      "\n"
     ]
    },
    {
     "name": "stderr",
     "output_type": "stream",
     "text": [
      "2025/06/29 18:17:18 WARNING mlflow.models.model: `artifact_path` is deprecated. Please use `name` instead.\n"
     ]
    },
    {
     "name": "stdout",
     "output_type": "stream",
     "text": [
      "\n",
      "8- Logging modele on MLflow...\n",
      "\n"
     ]
    },
    {
     "name": "stderr",
     "output_type": "stream",
     "text": [
      "2025/06/29 18:17:27 WARNING mlflow.models.model: Model logged without a signature and input example. Please set `input_example` parameter when logging the model to auto infer the model signature.\n"
     ]
    },
    {
     "name": "stdout",
     "output_type": "stream",
     "text": [
      "\n",
      "Random forest runned successfully !\n"
     ]
    }
   ],
   "source": [
    "mlflow.set_experiment('optimized models')\n",
    "with mlflow.start_run(run_name=\"Random_Forest_Optimized\"):\n",
    "\n",
    "    # 1- Best hyper parameters\n",
    "    print('\\n1- Search Best hyper parameters\\n')\n",
    "    param_distributions = {\n",
    "    'n_estimators': [50, 100, 150, 200], \n",
    "    'max_depth': [10, 20, 30, None],\n",
    "    'min_samples_leaf': [1, 2, 4],\n",
    "    'min_samples_split': [2, 5, 10]\n",
    "    }\n",
    "\n",
    "    # 2- Using RandomizedSearchCV for the search\n",
    "    print('\\n2- Find best hyperparameters ...\\n')\n",
    "    model = RandomForestRegressor(random_state=42, n_jobs=-1)\n",
    "    grid_search = RandomizedSearchCV(estimator=model, param_distributions=param_distributions, scoring='r2', cv=3, n_iter=10, random_state=42)\n",
    "    grid_search.fit(X_train_processed, y_train)\n",
    "    \n",
    "    # Log the best parameters\n",
    "    print(\"best parameters found : \", grid_search.best_params_)\n",
    "    mlflow.log_params(grid_search.best_params_)\n",
    "\n",
    "    # 3- Take back the best model\n",
    "    print('\\n3- Training the best random forest model...\\n')\n",
    "    best_model = grid_search.best_estimator_\n",
    "\n",
    "    # 4- Predictions on train and test set\n",
    "    print('\\n4- Predictions on train and test set...\\n')\n",
    "    y_train_pred = best_model.predict(X_train_processed)\n",
    "    y_test_pred = best_model.predict(X_test_processed)\n",
    "\n",
    "    # 5- Metrics evaluation\n",
    "    print('\\n5- Metrics evaluation...\\n')\n",
    "    metrics_train = {\n",
    "        'r2_train': r2_score(y_train, y_train_pred),\n",
    "        'mse_train': mean_squared_error(y_train, y_train_pred),\n",
    "        'mae_train': mean_absolute_error(y_train, y_train_pred)\n",
    "    }\n",
    "    metrics_test = {\n",
    "        'r2_test': r2_score(y_test, y_test_pred),\n",
    "        'mse_test': mean_squared_error(y_test, y_test_pred),\n",
    "        'mae_test': mean_absolute_error(y_test, y_test_pred)\n",
    "    }\n",
    "    \n",
    "    # Log the cross validation score\n",
    "    cv_score = {'r2_cross_validated': grid_search.best_score_}\n",
    "    print(f\"Score R2 of cross validation : {cv_score['r2_cross_validated']:.4f}\")\n",
    "\n",
    "    # Table of performance\n",
    "    perf_table = pd.DataFrame({\n",
    "        'Metric': ['R2', 'MSE', 'MAE'],\n",
    "        'Train': [metrics_train['r2_train'], metrics_train['mse_train'], metrics_train['mae_train']],\n",
    "        'Test': [metrics_test['r2_test'], metrics_test['mse_test'], metrics_test['mae_test']]\n",
    "    })\n",
    "    print(perf_table)\n",
    "\n",
    "    # 6- Log metrics on mlflow\n",
    "    print('\\n6- Log metrics on mlflow...\\n')\n",
    "    mlflow.log_metrics(metrics_train)\n",
    "    mlflow.log_metrics(metrics_test)\n",
    "    mlflow.log_metrics(cv_score)\n",
    "\n",
    "    # 7- Features importance\n",
    "    print('\\n7- Features importance...\\n')\n",
    "    importance = best_model.feature_importances_\n",
    "    features = preprocessor.get_feature_names_out()\n",
    "    importance_df = pd.DataFrame({'Feature': features, 'Importance': importance})\n",
    "    importance_df = importance_df.sort_values(by='Importance', ascending=False)\n",
    "\n",
    "    # log artifacts\n",
    "    with tempfile.TemporaryDirectory() as tmpdir:\n",
    "        \n",
    "        artifact_subdir = \"feature_importance\"\n",
    "        \n",
    "        # Save the features importance table\n",
    "        features_csv_path = os.path.join(tmpdir, \"feature_importances.csv\")\n",
    "        importance_df.to_csv(features_csv_path, index=False)\n",
    "        mlflow.log_artifact(features_csv_path, artifact_path=artifact_subdir)\n",
    "\n",
    "        # plot and save the graph\n",
    "        plt.figure(figsize=(15, 10))\n",
    "        top_20_features = importance_df.head(20)\n",
    "        plt.barh(top_20_features['Feature'], top_20_features['Importance'])\n",
    "        plt.title('Top 20 Feature Importances - Random Forest Optimized')\n",
    "        \n",
    "        plt.xlabel('Importance (Mean Decrease in Impurity)')\n",
    "        plt.gca().invert_yaxis()\n",
    "        plt.tight_layout()\n",
    "        features_plot_path = os.path.join(tmpdir, \"feature_importances_plot.png\")\n",
    "        plt.savefig(features_plot_path)\n",
    "        plt.close()\n",
    "        mlflow.log_artifact(features_plot_path, artifact_path=artifact_subdir)\n",
    "\n",
    "    # 8- Log the model\n",
    "    print(\"\\n8- Logging modele on MLflow...\\n\")\n",
    "    mlflow.sklearn.log_model(best_model, \"model\")\n",
    "\n",
    "print(\"\\nRandom forest runned successfully !\")"
   ]
  },
  {
   "cell_type": "code",
   "execution_count": null,
   "id": "38f78286-7aaf-42a2-98f2-e5a19bf442a2",
   "metadata": {},
   "outputs": [],
   "source": []
  }
 ],
 "metadata": {
  "kernelspec": {
   "display_name": "Python 3 (ipykernel)",
   "language": "python",
   "name": "python3"
  },
  "language_info": {
   "codemirror_mode": {
    "name": "ipython",
    "version": 3
   },
   "file_extension": ".py",
   "mimetype": "text/x-python",
   "name": "python",
   "nbconvert_exporter": "python",
   "pygments_lexer": "ipython3",
   "version": "3.12.7"
  }
 },
 "nbformat": 4,
 "nbformat_minor": 5
}
